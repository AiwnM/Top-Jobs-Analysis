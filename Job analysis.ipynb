{
 "cells": [
  {
   "cell_type": "code",
   "execution_count": null,
   "metadata": {},
   "outputs": [],
   "source": [
    "import numpy  as np\n",
    "import pandas as pd\n",
    "import matplotlib.pyplot as plt\n",
    "import seaborn as sns"
   ]
  },
  {
   "cell_type": "code",
   "execution_count": null,
   "metadata": {},
   "outputs": [
    {
     "data": {
      "text/html": [
       "<div>\n",
       "<style scoped>\n",
       "    .dataframe tbody tr th:only-of-type {\n",
       "        vertical-align: middle;\n",
       "    }\n",
       "\n",
       "    .dataframe tbody tr th {\n",
       "        vertical-align: top;\n",
       "    }\n",
       "\n",
       "    .dataframe thead th {\n",
       "        text-align: right;\n",
       "    }\n",
       "</style>\n",
       "<table border=\"1\" class=\"dataframe\">\n",
       "  <thead>\n",
       "    <tr style=\"text-align: right;\">\n",
       "      <th></th>\n",
       "      <th>work_year</th>\n",
       "      <th>experience_level</th>\n",
       "      <th>employment_type</th>\n",
       "      <th>job_title</th>\n",
       "      <th>salary</th>\n",
       "      <th>salary_currency</th>\n",
       "      <th>salary_in_usd</th>\n",
       "      <th>employee_residence</th>\n",
       "      <th>remote_ratio</th>\n",
       "      <th>company_location</th>\n",
       "      <th>company_size</th>\n",
       "    </tr>\n",
       "  </thead>\n",
       "  <tbody>\n",
       "    <tr>\n",
       "      <th>0</th>\n",
       "      <td>2024</td>\n",
       "      <td>SE</td>\n",
       "      <td>FT</td>\n",
       "      <td>AI Engineer</td>\n",
       "      <td>202730</td>\n",
       "      <td>USD</td>\n",
       "      <td>202730</td>\n",
       "      <td>US</td>\n",
       "      <td>0</td>\n",
       "      <td>US</td>\n",
       "      <td>M</td>\n",
       "    </tr>\n",
       "    <tr>\n",
       "      <th>1</th>\n",
       "      <td>2024</td>\n",
       "      <td>SE</td>\n",
       "      <td>FT</td>\n",
       "      <td>AI Engineer</td>\n",
       "      <td>92118</td>\n",
       "      <td>USD</td>\n",
       "      <td>92118</td>\n",
       "      <td>US</td>\n",
       "      <td>0</td>\n",
       "      <td>US</td>\n",
       "      <td>M</td>\n",
       "    </tr>\n",
       "    <tr>\n",
       "      <th>2</th>\n",
       "      <td>2024</td>\n",
       "      <td>SE</td>\n",
       "      <td>FT</td>\n",
       "      <td>Data Engineer</td>\n",
       "      <td>130500</td>\n",
       "      <td>USD</td>\n",
       "      <td>130500</td>\n",
       "      <td>US</td>\n",
       "      <td>0</td>\n",
       "      <td>US</td>\n",
       "      <td>M</td>\n",
       "    </tr>\n",
       "    <tr>\n",
       "      <th>3</th>\n",
       "      <td>2024</td>\n",
       "      <td>SE</td>\n",
       "      <td>FT</td>\n",
       "      <td>Data Engineer</td>\n",
       "      <td>96000</td>\n",
       "      <td>USD</td>\n",
       "      <td>96000</td>\n",
       "      <td>US</td>\n",
       "      <td>0</td>\n",
       "      <td>US</td>\n",
       "      <td>M</td>\n",
       "    </tr>\n",
       "    <tr>\n",
       "      <th>4</th>\n",
       "      <td>2024</td>\n",
       "      <td>SE</td>\n",
       "      <td>FT</td>\n",
       "      <td>Machine Learning Engineer</td>\n",
       "      <td>190000</td>\n",
       "      <td>USD</td>\n",
       "      <td>190000</td>\n",
       "      <td>US</td>\n",
       "      <td>0</td>\n",
       "      <td>US</td>\n",
       "      <td>M</td>\n",
       "    </tr>\n",
       "  </tbody>\n",
       "</table>\n",
       "</div>"
      ],
      "text/plain": [
       "   work_year experience_level employment_type                  job_title  \\\n",
       "0       2024               SE              FT                AI Engineer   \n",
       "1       2024               SE              FT                AI Engineer   \n",
       "2       2024               SE              FT              Data Engineer   \n",
       "3       2024               SE              FT              Data Engineer   \n",
       "4       2024               SE              FT  Machine Learning Engineer   \n",
       "\n",
       "   salary salary_currency  salary_in_usd employee_residence  remote_ratio  \\\n",
       "0  202730             USD         202730                 US             0   \n",
       "1   92118             USD          92118                 US             0   \n",
       "2  130500             USD         130500                 US             0   \n",
       "3   96000             USD          96000                 US             0   \n",
       "4  190000             USD         190000                 US             0   \n",
       "\n",
       "  company_location company_size  \n",
       "0               US            M  \n",
       "1               US            M  \n",
       "2               US            M  \n",
       "3               US            M  \n",
       "4               US            M  "
      ]
     },
     "metadata": {},
     "output_type": "display_data"
    }
   ],
   "source": [
    "df= pd.read_csv('salaries (2).csv')\n",
    "df.head()"
   ]
  },
  {
   "cell_type": "code",
   "execution_count": null,
   "metadata": {},
   "outputs": [
    {
     "name": "stdout",
     "output_type": "stream",
     "text": [
      "<class 'pandas.core.frame.DataFrame'>\n",
      "RangeIndex: 16534 entries, 0 to 16533\n",
      "Data columns (total 11 columns):\n",
      " #   Column              Non-Null Count  Dtype \n",
      "---  ------              --------------  ----- \n",
      " 0   work_year           16534 non-null  int64 \n",
      " 1   experience_level    16534 non-null  object\n",
      " 2   employment_type     16534 non-null  object\n",
      " 3   job_title           16534 non-null  object\n",
      " 4   salary              16534 non-null  int64 \n",
      " 5   salary_currency     16534 non-null  object\n",
      " 6   salary_in_usd       16534 non-null  int64 \n",
      " 7   employee_residence  16534 non-null  object\n",
      " 8   remote_ratio        16534 non-null  int64 \n",
      " 9   company_location    16534 non-null  object\n",
      " 10  company_size        16534 non-null  object\n",
      "dtypes: int64(4), object(7)\n",
      "memory usage: 1.4+ MB\n"
     ]
    }
   ],
   "source": [
    "df.info()"
   ]
  },
  {
   "cell_type": "code",
   "execution_count": null,
   "metadata": {},
   "outputs": [
    {
     "data": {
      "text/plain": [
       "work_year             0\n",
       "experience_level      0\n",
       "employment_type       0\n",
       "job_title             0\n",
       "salary                0\n",
       "salary_currency       0\n",
       "salary_in_usd         0\n",
       "employee_residence    0\n",
       "remote_ratio          0\n",
       "company_location      0\n",
       "company_size          0\n",
       "dtype: int64"
      ]
     },
     "metadata": {},
     "output_type": "display_data"
    }
   ],
   "source": [
    "df.isnull().sum()"
   ]
  },
  {
   "cell_type": "code",
   "execution_count": null,
   "metadata": {},
   "outputs": [
    {
     "data": {
      "text/html": [
       "<div>\n",
       "<style scoped>\n",
       "    .dataframe tbody tr th:only-of-type {\n",
       "        vertical-align: middle;\n",
       "    }\n",
       "\n",
       "    .dataframe tbody tr th {\n",
       "        vertical-align: top;\n",
       "    }\n",
       "\n",
       "    .dataframe thead th {\n",
       "        text-align: right;\n",
       "    }\n",
       "</style>\n",
       "<table border=\"1\" class=\"dataframe\">\n",
       "  <thead>\n",
       "    <tr style=\"text-align: right;\">\n",
       "      <th></th>\n",
       "      <th>salary</th>\n",
       "      <th>remote_ratio</th>\n",
       "    </tr>\n",
       "  </thead>\n",
       "  <tbody>\n",
       "    <tr>\n",
       "      <th>count</th>\n",
       "      <td>1.653400e+04</td>\n",
       "      <td>16534.000000</td>\n",
       "    </tr>\n",
       "    <tr>\n",
       "      <th>mean</th>\n",
       "      <td>1.637270e+05</td>\n",
       "      <td>32.003750</td>\n",
       "    </tr>\n",
       "    <tr>\n",
       "      <th>std</th>\n",
       "      <td>3.402057e+05</td>\n",
       "      <td>46.245158</td>\n",
       "    </tr>\n",
       "    <tr>\n",
       "      <th>min</th>\n",
       "      <td>1.400000e+04</td>\n",
       "      <td>0.000000</td>\n",
       "    </tr>\n",
       "    <tr>\n",
       "      <th>25%</th>\n",
       "      <td>1.017630e+05</td>\n",
       "      <td>0.000000</td>\n",
       "    </tr>\n",
       "    <tr>\n",
       "      <th>50%</th>\n",
       "      <td>1.422000e+05</td>\n",
       "      <td>0.000000</td>\n",
       "    </tr>\n",
       "    <tr>\n",
       "      <th>75%</th>\n",
       "      <td>1.872000e+05</td>\n",
       "      <td>100.000000</td>\n",
       "    </tr>\n",
       "    <tr>\n",
       "      <th>max</th>\n",
       "      <td>3.040000e+07</td>\n",
       "      <td>100.000000</td>\n",
       "    </tr>\n",
       "  </tbody>\n",
       "</table>\n",
       "</div>"
      ],
      "text/plain": [
       "             salary  remote_ratio\n",
       "count  1.653400e+04  16534.000000\n",
       "mean   1.637270e+05     32.003750\n",
       "std    3.402057e+05     46.245158\n",
       "min    1.400000e+04      0.000000\n",
       "25%    1.017630e+05      0.000000\n",
       "50%    1.422000e+05      0.000000\n",
       "75%    1.872000e+05    100.000000\n",
       "max    3.040000e+07    100.000000"
      ]
     },
     "metadata": {},
     "output_type": "display_data"
    }
   ],
   "source": [
    "df[['salary','remote_ratio']].describe()"
   ]
  },
  {
   "cell_type": "code",
   "execution_count": null,
   "metadata": {},
   "outputs": [
    {
     "name": "stdout",
     "output_type": "stream",
     "text": [
      "['AI Engineer' 'Data Engineer' 'Machine Learning Engineer' 'ML Engineer'\n",
      " 'Data Analyst' 'NLP Engineer' 'Data Scientist' 'Applied Scientist'\n",
      " 'Data Manager' 'Data Architect' 'Data Operations Manager'\n",
      " 'Research Scientist' 'Data Science Manager'\n",
      " 'Business Intelligence Engineer' 'Business Intelligence' 'Data Modeler'\n",
      " 'Data Integration Specialist' 'Data Product Manager'\n",
      " 'Data Visualization Specialist' 'Data Science' 'Data Specialist'\n",
      " 'Business Intelligence Lead' 'Research Analyst'\n",
      " 'Business Intelligence Analyst' 'AI Software Engineer'\n",
      " 'Machine Learning Scientist' 'Data Science Engineer'\n",
      " 'Machine Learning Operations Engineer' 'Analytics Engineer'\n",
      " 'Data Management Analyst' 'Encounter Data Management Professional'\n",
      " 'Data Analytics Specialist' 'Head of Data' 'Data Analytics Lead'\n",
      " 'Research Engineer' 'AI Scientist' 'Business Intelligence Developer'\n",
      " 'Machine Learning Developer' 'Data Management Specialist'\n",
      " 'Data Infrastructure Engineer' 'BI Developer' 'Admin & Data Analyst'\n",
      " 'Insight Analyst' 'Consultant Data Engineer'\n",
      " 'Business Intelligence Manager' 'Manager Data Management'\n",
      " 'Data Quality Manager' 'Data Analytics Manager' 'Robotics Engineer'\n",
      " 'Business Intelligence Specialist' 'Data Operations Analyst'\n",
      " 'Director of Business Intelligence' 'Data Product Owner'\n",
      " 'AI Research Scientist' 'Data Operations Specialist' 'Bear Robotics'\n",
      " 'Data Science Consultant' 'Data Lead' 'Data Operations Associate'\n",
      " 'AI Architect' 'Lead Data Scientist' 'MLOps Engineer' 'BI Analyst'\n",
      " 'Applied Research Scientist' 'Prompt Engineer'\n",
      " 'Data Integration Engineer' 'Machine Learning Infrastructure Engineer'\n",
      " 'Data Developer' 'CRM Data Analyst' 'ETL Developer'\n",
      " 'Cloud Database Engineer' 'Data Science Analyst'\n",
      " 'Data Science Practitioner' 'BI Data Analyst' 'Applied Data Scientist'\n",
      " 'Data Quality Engineer' 'Computational Biologist' 'Big Data Engineer'\n",
      " 'Data Analytics Associate' 'Data Reporting Analyst'\n",
      " 'Data Management Consultant' 'Data Quality Analyst'\n",
      " 'Robotics Software Engineer' 'Machine Learning Researcher'\n",
      " 'Data DevOps Engineer' 'Data Science Director' 'Data Strategist'\n",
      " 'Big Data Developer' 'Quantitative Research Analyst'\n",
      " 'Lead Machine Learning Engineer' 'Machine Learning Research Engineer'\n",
      " 'Data Analytics Consultant' 'AI Research Engineer' 'AI Programmer'\n",
      " 'ETL Engineer' 'AI Product Manager' 'AI Developer'\n",
      " 'Computer Vision Engineer' 'Head of Machine Learning' 'Data Analyst Lead'\n",
      " 'Data Integration Developer' 'ML Ops Engineer' 'Data Pipeline Engineer'\n",
      " 'Lead Data Analyst' 'Data Science Lead' 'Director of Data Science'\n",
      " 'Managing Director Data Science' 'Business Data Analyst'\n",
      " 'Marketing Data Scientist' 'Deep Learning Engineer'\n",
      " 'Machine Learning Modeler' 'Decision Scientist' 'Financial Data Analyst'\n",
      " 'Data Strategy Manager' 'Data Visualization Engineer'\n",
      " 'Azure Data Engineer' 'Principal Data Scientist' 'Staff Data Analyst'\n",
      " 'Machine Learning Software Engineer' 'Applied Machine Learning Scientist'\n",
      " 'Data Operations Engineer' 'Machine Learning Manager'\n",
      " 'Principal Machine Learning Engineer' 'Principal Data Engineer'\n",
      " 'Power BI Developer' 'Head of Data Science'\n",
      " 'Staff Machine Learning Engineer' 'Staff Data Scientist'\n",
      " 'Machine Learning Specialist' 'Business Intelligence Data Analyst'\n",
      " 'Data Modeller' 'Finance Data Analyst' 'Software Data Engineer'\n",
      " 'Compliance Data Analyst' 'Cloud Data Engineer'\n",
      " 'Analytics Engineering Manager' 'AWS Data Architect'\n",
      " 'Product Data Analyst' 'Data Visualization Analyst'\n",
      " 'Autonomous Vehicle Technician' 'Sales Data Analyst'\n",
      " 'Applied Machine Learning Engineer' 'BI Data Engineer'\n",
      " 'Deep Learning Researcher' 'Big Data Architect'\n",
      " 'Computer Vision Software Engineer' 'Marketing Data Engineer'\n",
      " 'Data Science Tech Lead' 'Data Scientist Lead' 'Marketing Data Analyst'\n",
      " 'Principal Data Architect' 'Data Analytics Engineer'\n",
      " 'Cloud Data Architect' 'Lead Data Engineer' 'Principal Data Analyst']\n"
     ]
    },
    {
     "data": {
      "text/plain": [
       "16534"
      ]
     },
     "metadata": {},
     "output_type": "display_data"
    }
   ],
   "source": [
    "print(df['job_title'].unique())\n",
    "df['job_title'].count()"
   ]
  },
  {
   "cell_type": "code",
   "execution_count": null,
   "metadata": {},
   "outputs": [
    {
     "data": {
      "text/plain": [
       "Text(0.5, 1.0, 'High paying jobs')"
      ]
     },
     "metadata": {},
     "output_type": "display_data"
    },
    {
     "data": {
      "image/png": "[encoded data removed]",
      "text/plain": [
       "<Figure size 2000x500 with 1 Axes>"
      ]
     },
     "metadata": {},
     "output_type": "display_data"
    }
   ],
   "source": [
    "data1 = df.groupby(['job_title'],as_index= False)['salary'].sum().sort_values(['salary'],ascending= False).head(10)\n",
    "ax = sns.barplot(x = 'job_title',y='salary',data= data1,hue='job_title',width=0.5)\n",
    "sns.set(rc={'figure.figsize':(15,5)})\n",
    "plt.title('High paying jobs',fontweight= 'bold',fontsize= 20)"
   ]
  },
  {
   "cell_type": "code",
   "execution_count": null,
   "metadata": {},
   "outputs": [
    {
     "data": {
      "text/plain": [
       "Text(0.5, 1.0, 'High paying Countries')"
      ]
     },
     "metadata": {},
     "output_type": "display_data"
    },
    {
     "data": {
      "image/png": "[encoded data removed]",
      "text/plain": [
       "<Figure size 1500x500 with 1 Axes>"
      ]
     },
     "metadata": {},
     "output_type": "display_data"
    }
   ],
   "source": [
    "d = df.groupby(['company_location'],as_index= False)['salary_in_usd'].sum().sort_values(['salary_in_usd'],ascending= False).head(10)\n",
    "sns.lineplot(x='company_location',y='salary_in_usd',data= d,linewidth= 2.5)\n",
    "sns.set(rc={'figure.figsize':(15,5)})\n",
    "plt.title('High paying Countries',fontweight= 'bold',fontsize= 20)"
   ]
  },
  {
   "cell_type": "code",
   "execution_count": null,
   "metadata": {},
   "outputs": [],
   "source": []
  }
 ],
 "metadata": {
  "kernelspec": {
   "display_name": "Python 3",
   "language": "python",
   "name": "python3"
  },
  "language_info": {
   "name": "python",
   "version": "3.12.3"
  }
 },
 "nbformat": 4,
 "nbformat_minor": 2
}
